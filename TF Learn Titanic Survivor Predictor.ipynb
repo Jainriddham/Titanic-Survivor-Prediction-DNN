{
 "cells": [
  {
   "cell_type": "code",
   "execution_count": 1,
   "id": "465f4ca4",
   "metadata": {},
   "outputs": [],
   "source": [
    "# Titanic Survivor Prediction"
   ]
  },
  {
   "cell_type": "code",
   "execution_count": 1,
   "id": "0ca38ce3",
   "metadata": {},
   "outputs": [],
   "source": [
    "#survived (0/1)\n",
    "# pClass - 1=st,2=nd,3=rd\n",
    "# name\n",
    "# sex\n",
    "# age\n",
    "# sibsp (No of Siblings or Spouses aboard)\n",
    "# parch (No of Parents/Children aboard)\n",
    "#ticket (Number)\n",
    "# fare (Passenger fare)"
   ]
  },
  {
   "cell_type": "code",
   "execution_count": 2,
   "id": "6eb87761",
   "metadata": {},
   "outputs": [
    {
     "name": "stdout",
     "output_type": "stream",
     "text": [
      "WARNING:tensorflow:From C:\\Users\\ankur\\anaconda3\\envs\\tf_gpu\\lib\\site-packages\\tensorflow\\python\\compat\\v2_compat.py:107: disable_resource_variables (from tensorflow.python.ops.variable_scope) is deprecated and will be removed in a future version.\n",
      "Instructions for updating:\n",
      "non-resource variables are not supported in the long term\n",
      "curses is not supported on this machine (please install/reinstall curses for an optimal experience)\n"
     ]
    }
   ],
   "source": [
    "import numpy as np\n",
    "import tflearn"
   ]
  },
  {
   "cell_type": "code",
   "execution_count": 3,
   "id": "dc953873",
   "metadata": {},
   "outputs": [],
   "source": [
    "from tflearn.datasets import titanic\n",
    "titanic.download_dataset('titanic_dataset.csv')\n",
    "\n",
    "from tflearn.data_utils import load_csv\n",
    "data, labels = load_csv('titanic_dataset.csv',target_column=0,categorical_labels=True,n_classes=2)"
   ]
  },
  {
   "cell_type": "code",
   "execution_count": 4,
   "id": "03fafb22",
   "metadata": {},
   "outputs": [
    {
     "data": {
      "text/plain": [
       "[['1',\n",
       "  'Allison, Master. Hudson Trevor',\n",
       "  'male',\n",
       "  '0.9167',\n",
       "  '1',\n",
       "  '2',\n",
       "  '113781',\n",
       "  '151.5500'],\n",
       " ['1',\n",
       "  'Allison, Miss. Helen Loraine',\n",
       "  'female',\n",
       "  '2',\n",
       "  '1',\n",
       "  '2',\n",
       "  '113781',\n",
       "  '151.5500'],\n",
       " ['1',\n",
       "  'Allison, Mr. Hudson Joshua Creighton',\n",
       "  'male',\n",
       "  '30',\n",
       "  '1',\n",
       "  '2',\n",
       "  '113781',\n",
       "  '151.5500'],\n",
       " ['1',\n",
       "  'Allison, Mrs. Hudson J C (Bessie Waldo Daniels)',\n",
       "  'female',\n",
       "  '25',\n",
       "  '1',\n",
       "  '2',\n",
       "  '113781',\n",
       "  '151.5500']]"
      ]
     },
     "execution_count": 4,
     "metadata": {},
     "output_type": "execute_result"
    }
   ],
   "source": [
    "data[1:5]"
   ]
  },
  {
   "cell_type": "code",
   "execution_count": 5,
   "id": "679aa7bd",
   "metadata": {},
   "outputs": [],
   "source": [
    "#preprocessing func\n",
    "def preprocess(passengers,columns_to_delete):\n",
    "    #sort by descending id and delete cols\n",
    "    for columns_to_delete in sorted(columns_to_delete,reverse=True):\n",
    "        [passenger.pop(columns_to_delete) for passenger in passengers]\n",
    "    for i in range(len(passengers)):\n",
    "        #converting sex to float\n",
    "        passengers[i][1] = 1. if passengers[i][1] == 'female' else 0.\n",
    "    return np.array(passengers,dtype=np.float32)\n",
    "\n",
    "#Ignore 1 and 6 cols (name and ticket num)\n",
    "to_ignore=[1,6]\n",
    "\n",
    "#process data\n",
    "data=preprocess(data,to_ignore)"
   ]
  },
  {
   "cell_type": "code",
   "execution_count": 6,
   "id": "5c8f25ec",
   "metadata": {},
   "outputs": [
    {
     "name": "stdout",
     "output_type": "stream",
     "text": [
      "WARNING:tensorflow:From C:\\Users\\ankur\\anaconda3\\envs\\tf_gpu\\lib\\site-packages\\tflearn\\initializations.py:164: calling TruncatedNormal.__init__ (from tensorflow.python.ops.init_ops) with dtype is deprecated and will be removed in a future version.\n",
      "Instructions for updating:\n",
      "Call initializer instance with the dtype argument instead of passing it to the constructor\n"
     ]
    }
   ],
   "source": [
    "#Our model\n",
    "net=tflearn.input_data(shape=[None,6])\n",
    "net=tflearn.fully_connected(net,32)\n",
    "net=tflearn.fully_connected(net,32)\n",
    "net=tflearn.fully_connected(net,2,activation='softmax')\n",
    "net=tflearn.regression(net)"
   ]
  },
  {
   "cell_type": "code",
   "execution_count": 7,
   "id": "9a7fc203",
   "metadata": {},
   "outputs": [
    {
     "name": "stdout",
     "output_type": "stream",
     "text": [
      "Training Step: 819  | total loss: \u001b[1m\u001b[32m0.44813\u001b[0m\u001b[0m | time: 0.846s\n",
      "| Adam | epoch: 010 | loss: 0.44813 - acc: 0.8065 -- iter: 1296/1309\n",
      "Training Step: 820  | total loss: \u001b[1m\u001b[32m0.44145\u001b[0m\u001b[0m | time: 0.857s\n",
      "| Adam | epoch: 010 | loss: 0.44145 - acc: 0.8134 -- iter: 1309/1309\n",
      "--\n"
     ]
    }
   ],
   "source": [
    "model = tflearn.DNN(net)\n",
    "#start training (Apply gradient descent algo)\n",
    "model.fit(data,labels,n_epoch=10,batch_size=16,show_metric=True)"
   ]
  },
  {
   "cell_type": "code",
   "execution_count": 10,
   "id": "6bfc6adc",
   "metadata": {},
   "outputs": [
    {
     "name": "stdout",
     "output_type": "stream",
     "text": [
      "Raj Surviving Rate: 0.13955392\n",
      "Khushi Surviving Rate: 0.9823371\n"
     ]
    }
   ],
   "source": [
    "#Data for Raj and Khushi\n",
    "raj=[3,'Jack Dawson','male',19,0,0,'N/A',5.0000]\n",
    "Khushi=[1,'Rose Dewitt Bukater','female',17,1,2,'N/A',100.0000]\n",
    "#preprocess\n",
    "raj, khushi = preprocess([raj,Khushi],to_ignore)\n",
    "#predict\n",
    "pred = model.predict([raj,Khushi])\n",
    "print(\"Raj Surviving Rate:\",pred[0][1])\n",
    "print(\"Khushi Surviving Rate:\",pred[1][1])"
   ]
  },
  {
   "cell_type": "code",
   "execution_count": null,
   "id": "68665dbb",
   "metadata": {},
   "outputs": [],
   "source": []
  }
 ],
 "metadata": {
  "kernelspec": {
   "display_name": "Python 3",
   "language": "python",
   "name": "python3"
  },
  "language_info": {
   "codemirror_mode": {
    "name": "ipython",
    "version": 3
   },
   "file_extension": ".py",
   "mimetype": "text/x-python",
   "name": "python",
   "nbconvert_exporter": "python",
   "pygments_lexer": "ipython3",
   "version": "3.12.0"
  }
 },
 "nbformat": 4,
 "nbformat_minor": 5
}
